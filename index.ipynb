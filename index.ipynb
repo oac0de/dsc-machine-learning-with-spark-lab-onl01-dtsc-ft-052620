{
  "nbformat": 4,
  "nbformat_minor": 0,
  "metadata": {
    "kernelspec": {
      "display_name": "Python 3",
      "language": "python",
      "name": "python3"
    },
    "language_info": {
      "codemirror_mode": {
        "name": "ipython",
        "version": 3
      },
      "file_extension": ".py",
      "mimetype": "text/x-python",
      "name": "python",
      "nbconvert_exporter": "python",
      "pygments_lexer": "ipython3",
      "version": "3.7.3"
    },
    "colab": {
      "name": "index.ipynb",
      "provenance": [],
      "toc_visible": true
    }
  },
  "cells": [
    {
      "cell_type": "markdown",
      "metadata": {
        "id": "5eaVdTaUYf_T",
        "colab_type": "text"
      },
      "source": [
        "## Machine Learning with Spark - Lab\n",
        "\n",
        "## Introduction\n",
        "\n",
        "In the previous lesson, you saw how to manipulate data with Spark DataFrames as well as create machine learning models. In this lab, you're going to practice loading data, manipulating it, and fitting it in the Spark framework. Afterward, you're going to make use of different visualizations to see if you can get any insights from the model. This dataset is from a Taiwanese financial company, and the task is to determine which individuals are going to default on their credit card based off of characteristics such as limit balance, past payment history, age, marriage status, and sex. Let's get started!\n",
        "\n",
        "### Objectives\n",
        "\n",
        "In this lab you will: \n",
        "\n",
        "- Load and manipulate data using Spark DataFrames \n",
        "- Create a Spark ML pipeline that transforms data and runs over a grid of hyperparameters "
      ]
    },
    {
      "cell_type": "markdown",
      "metadata": {
        "id": "wKZ6HCJ1Yf_U",
        "colab_type": "text"
      },
      "source": [
        "To begin with create a SparkSession and import the `'credit_card_default.csv'` file  into a PySpark DataFrame. "
      ]
    },
    {
      "cell_type": "code",
      "metadata": {
        "id": "3rAImCT4Yy3n",
        "colab_type": "code",
        "colab": {}
      },
      "source": [
        "!apt-get install openjdk-8-jdk-headless -qq > /dev/null\n",
        "!wget -q https://archive.apache.org/dist/spark/spark-2.4.5/spark-2.4.5-bin-hadoop2.7.tgz\n",
        "!tar xf spark-2.4.5-bin-hadoop2.7.tgz\n",
        "!pip install -q findspark"
      ],
      "execution_count": 1,
      "outputs": []
    },
    {
      "cell_type": "code",
      "metadata": {
        "id": "lEICEmYOYznL",
        "colab_type": "code",
        "colab": {
          "base_uri": "https://localhost:8080/",
          "height": 258
        },
        "outputId": "48fef9fe-dc04-4b6e-a334-77a7838c4ebf"
      },
      "source": [
        "!pip install pyspark==2.4.5"
      ],
      "execution_count": 2,
      "outputs": [
        {
          "output_type": "stream",
          "text": [
            "Collecting pyspark==2.4.5\n",
            "\u001b[?25l  Downloading https://files.pythonhosted.org/packages/9a/5a/271c416c1c2185b6cb0151b29a91fff6fcaed80173c8584ff6d20e46b465/pyspark-2.4.5.tar.gz (217.8MB)\n",
            "\u001b[K     |████████████████████████████████| 217.8MB 63kB/s \n",
            "\u001b[?25hCollecting py4j==0.10.7\n",
            "\u001b[?25l  Downloading https://files.pythonhosted.org/packages/e3/53/c737818eb9a7dc32a7cd4f1396e787bd94200c3997c72c1dbe028587bd76/py4j-0.10.7-py2.py3-none-any.whl (197kB)\n",
            "\u001b[K     |████████████████████████████████| 204kB 42.9MB/s \n",
            "\u001b[?25hBuilding wheels for collected packages: pyspark\n",
            "  Building wheel for pyspark (setup.py) ... \u001b[?25l\u001b[?25hdone\n",
            "  Created wheel for pyspark: filename=pyspark-2.4.5-py2.py3-none-any.whl size=218257928 sha256=7a3f4e0641f09a6b734935da2eb83bbc218e3a44bf6c58eb8aae6f06aae065cb\n",
            "  Stored in directory: /root/.cache/pip/wheels/bf/db/04/61d66a5939364e756eb1c1be4ec5bdce6e04047fc7929a3c3c\n",
            "Successfully built pyspark\n",
            "Installing collected packages: py4j, pyspark\n",
            "Successfully installed py4j-0.10.7 pyspark-2.4.5\n"
          ],
          "name": "stdout"
        }
      ]
    },
    {
      "cell_type": "code",
      "metadata": {
        "id": "_oX4_CbiYzty",
        "colab_type": "code",
        "colab": {}
      },
      "source": [
        "import os\n",
        "# /usr/lib/jvm/java-8-openjdk-amd64\n",
        "os.environ[\"JAVA_HOME\"] = \"/usr/lib/jvm/java-8-openjdk-amd64\"\n",
        "# /content/spark-2.4.5-bin-hadoop2.7\n",
        "os.environ[\"SPARK_HOME\"] = \"/content/spark-2.4.5-bin-hadoop2.7\""
      ],
      "execution_count": 3,
      "outputs": []
    },
    {
      "cell_type": "code",
      "metadata": {
        "id": "VrcjXYz6Yf_U",
        "colab_type": "code",
        "colab": {}
      },
      "source": [
        "# import necessary libraries\n",
        "from pyspark import SparkContext\n",
        "from pyspark.sql import SparkSession\n",
        "# initialize Spark Session\n",
        "sc = SparkContext('local[*]')\n",
        "spark = SparkSession(sc)\n",
        "\n",
        "# read in csv to a spark dataframe\n",
        "spark_df = spark.read.csv('./credit_card_default.csv',header='true',inferSchema='true')"
      ],
      "execution_count": 4,
      "outputs": []
    },
    {
      "cell_type": "markdown",
      "metadata": {
        "id": "mtL1VxH1Yf_Y",
        "colab_type": "text"
      },
      "source": [
        "Check the datatypes to ensure that all columns are the datatype you expect."
      ]
    },
    {
      "cell_type": "code",
      "metadata": {
        "id": "-o5W7K8oYf_Y",
        "colab_type": "code",
        "colab": {
          "base_uri": "https://localhost:8080/",
          "height": 442
        },
        "outputId": "8cb18575-8820-42bf-9bf2-6624cd9bc15c"
      },
      "source": [
        "spark_df.dtypes"
      ],
      "execution_count": 8,
      "outputs": [
        {
          "output_type": "execute_result",
          "data": {
            "text/plain": [
              "[('ID', 'int'),\n",
              " ('LIMIT_BAL', 'double'),\n",
              " ('SEX', 'string'),\n",
              " ('EDUCATION', 'string'),\n",
              " ('MARRIAGE', 'string'),\n",
              " ('AGE', 'int'),\n",
              " ('PAY_0', 'int'),\n",
              " ('PAY_2', 'int'),\n",
              " ('PAY_3', 'int'),\n",
              " ('PAY_4', 'int'),\n",
              " ('PAY_5', 'int'),\n",
              " ('PAY_6', 'int'),\n",
              " ('BILL_AMT1', 'double'),\n",
              " ('BILL_AMT2', 'double'),\n",
              " ('BILL_AMT3', 'double'),\n",
              " ('BILL_AMT4', 'double'),\n",
              " ('BILL_AMT5', 'double'),\n",
              " ('BILL_AMT6', 'double'),\n",
              " ('PAY_AMT1', 'double'),\n",
              " ('PAY_AMT2', 'double'),\n",
              " ('PAY_AMT3', 'double'),\n",
              " ('PAY_AMT4', 'double'),\n",
              " ('PAY_AMT5', 'double'),\n",
              " ('PAY_AMT6', 'double'),\n",
              " ('default', 'int')]"
            ]
          },
          "metadata": {
            "tags": []
          },
          "execution_count": 8
        }
      ]
    },
    {
      "cell_type": "markdown",
      "metadata": {
        "id": "b5qpaFSUYf_c",
        "colab_type": "text"
      },
      "source": [
        "Check to see how many missing values are in the dataset. This will require using the `.filter()` , `.isNull()`, and `.count()` methods."
      ]
    },
    {
      "cell_type": "code",
      "metadata": {
        "id": "w8F3AxuSYf_d",
        "colab_type": "code",
        "colab": {
          "base_uri": "https://localhost:8080/",
          "height": 442
        },
        "outputId": "0e3218fc-404f-4e6c-913b-481b5cb4a927"
      },
      "source": [
        "for col in spark_df.columns:\n",
        "    print('column', col, spark_df.filter(spark_df[col].isNull()).count())"
      ],
      "execution_count": 9,
      "outputs": [
        {
          "output_type": "stream",
          "text": [
            "column ID 0\n",
            "column LIMIT_BAL 0\n",
            "column SEX 0\n",
            "column EDUCATION 0\n",
            "column MARRIAGE 0\n",
            "column AGE 0\n",
            "column PAY_0 0\n",
            "column PAY_2 0\n",
            "column PAY_3 0\n",
            "column PAY_4 0\n",
            "column PAY_5 0\n",
            "column PAY_6 0\n",
            "column BILL_AMT1 0\n",
            "column BILL_AMT2 0\n",
            "column BILL_AMT3 0\n",
            "column BILL_AMT4 0\n",
            "column BILL_AMT5 0\n",
            "column BILL_AMT6 0\n",
            "column PAY_AMT1 0\n",
            "column PAY_AMT2 0\n",
            "column PAY_AMT3 0\n",
            "column PAY_AMT4 0\n",
            "column PAY_AMT5 0\n",
            "column PAY_AMT6 0\n",
            "column default 0\n"
          ],
          "name": "stdout"
        }
      ]
    },
    {
      "cell_type": "markdown",
      "metadata": {
        "id": "nkvFbjJ_Yf_f",
        "colab_type": "text"
      },
      "source": [
        "Now, determine how many categories there are in each of the categorical columns."
      ]
    },
    {
      "cell_type": "code",
      "metadata": {
        "id": "mcU9FZqBYf_g",
        "colab_type": "code",
        "colab": {
          "base_uri": "https://localhost:8080/",
          "height": 88
        },
        "outputId": "a517e9d2-2f3b-4c3e-de6b-509db5d3763e"
      },
      "source": [
        "for column, data_type in spark_df.dtypes:\n",
        "   if data_type == 'string':\n",
        "        print('Feature ',column,' has: ', spark_df.select(column).distinct().collect())"
      ],
      "execution_count": 10,
      "outputs": [
        {
          "output_type": "stream",
          "text": [
            "Feature  SEX  has:  [Row(SEX='Female'), Row(SEX='Male')]\n",
            "Feature  EDUCATION  has:  [Row(EDUCATION='High School'), Row(EDUCATION='0'), Row(EDUCATION='5'), Row(EDUCATION='6'), Row(EDUCATION='Other'), Row(EDUCATION='Graduate'), Row(EDUCATION='College')]\n",
            "Feature  MARRIAGE  has:  [Row(MARRIAGE='0'), Row(MARRIAGE='Other'), Row(MARRIAGE='Married'), Row(MARRIAGE='Single')]\n"
          ],
          "name": "stdout"
        }
      ]
    },
    {
      "cell_type": "markdown",
      "metadata": {
        "id": "98iQd4n3Yf_i",
        "colab_type": "text"
      },
      "source": [
        "Interesting... it looks like we have some extraneous values in each of our categories. Let's look at some visualizations of each of these to determine just how many of them there are. Create bar plots of the variables `'EDUCATION'` and `'MARRIAGE'` to see how many of the undefined values there are. After doing so, come up with a strategy for accounting for the extra values."
      ]
    },
    {
      "cell_type": "code",
      "metadata": {
        "id": "zJKVdoCoYf_j",
        "colab_type": "code",
        "colab": {
          "base_uri": "https://localhost:8080/",
          "height": 319
        },
        "outputId": "1f31e863-0fa0-40b8-f6f4-d7610a0dd690"
      },
      "source": [
        "import seaborn as sns\n",
        "import matplotlib.pyplot as plt\n",
        "\n",
        "def bar_plot_values(idx,group):\n",
        "    return [x[idx] for x in group]\n",
        "\n",
        "## plotting the categories for education\n",
        "education_cats = spark_df.groupBy('EDUCATION').count().collect()\n",
        "sns.barplot(x=bar_plot_values(0,education_cats),y=bar_plot_values(1,education_cats))\n",
        "plt.show()\n",
        "\n",
        "## plotting the categories for education\n"
      ],
      "execution_count": 11,
      "outputs": [
        {
          "output_type": "stream",
          "text": [
            "/usr/local/lib/python3.6/dist-packages/statsmodels/tools/_testing.py:19: FutureWarning: pandas.util.testing is deprecated. Use the functions in the public API at pandas.testing instead.\n",
            "  import pandas.util.testing as tm\n"
          ],
          "name": "stderr"
        },
        {
          "output_type": "display_data",
          "data": {
            "image/png": "[encoded data removed]",
            "text/plain": [
              "<Figure size 432x288 with 1 Axes>"
            ]
          },
          "metadata": {
            "tags": [],
            "needs_background": "light"
          }
        }
      ]
    },
    {
      "cell_type": "code",
      "metadata": {
        "id": "3Kbtl-evYf_l",
        "colab_type": "code",
        "colab": {
          "base_uri": "https://localhost:8080/",
          "height": 265
        },
        "outputId": "96c9e4aa-e478-4257-edc9-63dae62beadf"
      },
      "source": [
        "## plotting the categories for marriage\n",
        "marriage_cats =  spark_df.groupby('MARRIAGE').count().collect()\n",
        "sns.barplot(x=bar_plot_values(0, marriage_cats), y=bar_plot_values(1, marriage_cats))\n",
        "plt.show()"
      ],
      "execution_count": 12,
      "outputs": [
        {
          "output_type": "display_data",
          "data": {
            "image/png": "[encoded data removed]",
            "text/plain": [
              "<Figure size 432x288 with 1 Axes>"
            ]
          },
          "metadata": {
            "tags": [],
            "needs_background": "light"
          }
        }
      ]
    },
    {
      "cell_type": "markdown",
      "metadata": {
        "id": "E-QCqF9FYf_o",
        "colab_type": "text"
      },
      "source": [
        "It looks like there are barely any of the 0 and 5 categories. We can go ahead and throw them into the \"Other\" category since it's already operating as a catchall here. Similarly, the category \"0\" looks small, so let's throw it in with the \"Other\" values. You can do this by using a method called `.when()` from PySpark in conjunction with `.withColumn()` and `.otherwise()`.  "
      ]
    },
    {
      "cell_type": "code",
      "metadata": {
        "id": "MetLO7NtYf_o",
        "colab_type": "code",
        "colab": {}
      },
      "source": [
        "from pyspark.sql.functions import when\n",
        "\n",
        "## changing the values in the education column\n",
        "spark_df_2 = spark_df.withColumn('EDUCATION',\n",
        "                    when(spark_df.EDUCATION == '0', 'Other')\\\n",
        "                    .when(spark_df.EDUCATION == '5', 'Other')\\\n",
        "                    .when(spark_df.EDUCATION == '6', 'Other')\\\n",
        "                    .otherwise(spark_df['EDUCATION']))\n",
        "\n",
        "## chaning the values in the marriage column\n",
        "spark_df_done = spark_df_2.withColumn('MARRIAGE',\n",
        "                                   when(spark_df.MARRIAGE == '0', 'Other')\\\n",
        "                                   .otherwise(spark_df['MARRIAGE']))"
      ],
      "execution_count": 13,
      "outputs": []
    },
    {
      "cell_type": "code",
      "metadata": {
        "id": "V67HKYABYf_q",
        "colab_type": "code",
        "colab": {
          "base_uri": "https://localhost:8080/",
          "height": 54
        },
        "outputId": "bc8c1eb9-8296-4ce6-f9af-6ffcc48763eb"
      },
      "source": [
        "spark_df_done.head()"
      ],
      "execution_count": 14,
      "outputs": [
        {
          "output_type": "execute_result",
          "data": {
            "text/plain": [
              "Row(ID=2, LIMIT_BAL=120000.0, SEX='Female', EDUCATION='College', MARRIAGE='Single', AGE=26, PAY_0=-1, PAY_2=2, PAY_3=0, PAY_4=0, PAY_5=0, PAY_6=2, BILL_AMT1=2682.0, BILL_AMT2=1725.0, BILL_AMT3=2682.0, BILL_AMT4=3272.0, BILL_AMT5=3455.0, BILL_AMT6=3261.0, PAY_AMT1=0.0, PAY_AMT2=1000.0, PAY_AMT3=1000.0, PAY_AMT4=1000.0, PAY_AMT5=0.0, PAY_AMT6=2000.0, default=1)"
            ]
          },
          "metadata": {
            "tags": []
          },
          "execution_count": 14
        }
      ]
    },
    {
      "cell_type": "markdown",
      "metadata": {
        "id": "uTXUs-XEYf_t",
        "colab_type": "text"
      },
      "source": [
        "Now let's take a look at all the values contained in the categorical columns of the DataFrame: "
      ]
    },
    {
      "cell_type": "code",
      "metadata": {
        "id": "p6SceHGOYf_t",
        "colab_type": "code",
        "colab": {
          "base_uri": "https://localhost:8080/",
          "height": 88
        },
        "outputId": "d5b9fc4b-53ba-404e-da58-38ff18586f1f"
      },
      "source": [
        "for column, data_type in spark_df_done.dtypes:\n",
        "     if data_type == 'string':\n",
        "        print('Feature ',column,' has: ', spark_df_done.select(column).distinct().collect())"
      ],
      "execution_count": 15,
      "outputs": [
        {
          "output_type": "stream",
          "text": [
            "Feature  SEX  has:  [Row(SEX='Female'), Row(SEX='Male')]\n",
            "Feature  EDUCATION  has:  [Row(EDUCATION='High School'), Row(EDUCATION='Other'), Row(EDUCATION='Graduate'), Row(EDUCATION='College')]\n",
            "Feature  MARRIAGE  has:  [Row(MARRIAGE='Other'), Row(MARRIAGE='Married'), Row(MARRIAGE='Single')]\n"
          ],
          "name": "stdout"
        }
      ]
    },
    {
      "cell_type": "markdown",
      "metadata": {
        "id": "mFHQcVG5Yf_v",
        "colab_type": "text"
      },
      "source": [
        "Much better. Now, let's do a little more investigation into our target variable before diving into the machine learning aspect of this project."
      ]
    },
    {
      "cell_type": "markdown",
      "metadata": {
        "id": "hUZtzOhLYf_w",
        "colab_type": "text"
      },
      "source": [
        "##  EDA\n",
        "\n",
        "Let's first look at the overall distribution of class balance of the default and not default labels. Create a barplot to compare the number of defaults vs. non-defaults. This will require using `.groupBy()` as well as an aggregation method."
      ]
    },
    {
      "cell_type": "code",
      "metadata": {
        "id": "xB2oTCXbYf_w",
        "colab_type": "code",
        "colab": {
          "base_uri": "https://localhost:8080/",
          "height": 265
        },
        "outputId": "8b707346-363d-4400-9a9a-12fca459e75c"
      },
      "source": [
        "number_of_defaults = spark_df_done.groupBy('default').count().collect()\n",
        "default = [x[0] for x in number_of_defaults]\n",
        "num_defaults = [x[1] for x in number_of_defaults]\n",
        "ax = sns.barplot(default,num_defaults)\n",
        "ax.set_ylabel('Number of Defaults')\n",
        "ax.set_xticklabels(['No Default (0)','Default (1)']);"
      ],
      "execution_count": 17,
      "outputs": [
        {
          "output_type": "display_data",
          "data": {
            "image/png": "[encoded data removed]",
            "text/plain": [
              "<Figure size 432x288 with 1 Axes>"
            ]
          },
          "metadata": {
            "tags": [],
            "needs_background": "light"
          }
        }
      ]
    },
    {
      "cell_type": "markdown",
      "metadata": {
        "id": "pWEPhuuIYf_z",
        "colab_type": "text"
      },
      "source": [
        "Let's also visualize the difference in default rate between males and females in this dataset."
      ]
    },
    {
      "cell_type": "code",
      "metadata": {
        "id": "byIzehfAYf_z",
        "colab_type": "code",
        "colab": {
          "base_uri": "https://localhost:8080/",
          "height": 85
        },
        "outputId": "51461208-e067-40c5-cb01-728f69de6c92"
      },
      "source": [
        "# perform a groupby for default and sex\n",
        "results = spark_df_done.groupBy(['default','SEX']).count().collect()\n",
        "results"
      ],
      "execution_count": 18,
      "outputs": [
        {
          "output_type": "execute_result",
          "data": {
            "text/plain": [
              "[Row(default=1, SEX='Female', count=3762),\n",
              " Row(default=0, SEX='Male', count=9015),\n",
              " Row(default=1, SEX='Male', count=2873),\n",
              " Row(default=0, SEX='Female', count=14349)]"
            ]
          },
          "metadata": {
            "tags": []
          },
          "execution_count": 18
        }
      ]
    },
    {
      "cell_type": "code",
      "metadata": {
        "id": "ilI4_is0Yf_1",
        "colab_type": "code",
        "colab": {}
      },
      "source": [
        "# make barplot for female and male default v no default rate\n",
        "female =  [results[0],results[-1]]\n",
        "male = [results[1],results[2]]"
      ],
      "execution_count": 19,
      "outputs": []
    },
    {
      "cell_type": "code",
      "metadata": {
        "id": "BFcCYkG0c9_w",
        "colab_type": "code",
        "colab": {
          "base_uri": "https://localhost:8080/",
          "height": 281
        },
        "outputId": "f9e17352-549a-4ef0-bd68-9d94bbb1cb7f"
      },
      "source": [
        "f, axes = plt.subplots(1,2)\n",
        "f.set_figwidth(10)\n",
        "sns.barplot(x= bar_plot_values(0,female),y=bar_plot_values(2,female),ax=axes[0])\n",
        "sns.barplot(x= bar_plot_values(0,male),y=bar_plot_values(2,male),ax=axes[1])\n",
        "axes[0].set_title('Female Default Rate')\n",
        "axes[1].set_title('Male Default Rate')\n",
        "axes[0].set_ylabel('Number of Defaults')\n",
        "axes[0].set_xticklabels(['No Default (0)','Default (1)'])\n",
        "axes[1].set_xticklabels(['No Default (0)','Default (1)']);"
      ],
      "execution_count": 21,
      "outputs": [
        {
          "output_type": "display_data",
          "data": {
            "image/png": "[encoded data removed]",
            "text/plain": [
              "<Figure size 720x288 with 2 Axes>"
            ]
          },
          "metadata": {
            "tags": [],
            "needs_background": "light"
          }
        }
      ]
    },
    {
      "cell_type": "markdown",
      "metadata": {
        "id": "4ew5nh8dYf_3",
        "colab_type": "text"
      },
      "source": [
        "It looks like males have an ever so slightly higher default rate than females."
      ]
    },
    {
      "cell_type": "markdown",
      "metadata": {
        "id": "hVoXUyePYf_3",
        "colab_type": "text"
      },
      "source": [
        "## Onto the Machine Learning!"
      ]
    },
    {
      "cell_type": "markdown",
      "metadata": {
        "id": "zoUl96gnYf_4",
        "colab_type": "text"
      },
      "source": [
        "Now, it's time to fit the data to the PySpark machine learning model pipeline. You will need:\n",
        "\n",
        "* 3 StringIndexers (for each categorical feature)\n",
        "* A OneHotEncoderEstimator (to encode the newly indexed strings into categorical variables)\n",
        "* A VectorAssembler (to combine all features into one SparseVector)\n",
        "\n",
        "All of these initialized estimators should be stored in a list."
      ]
    },
    {
      "cell_type": "code",
      "metadata": {
        "id": "1lDRWGX0Yf_4",
        "colab_type": "code",
        "colab": {
          "base_uri": "https://localhost:8080/",
          "height": 54
        },
        "outputId": "e9db96b9-73a9-4188-a91f-952f541110e6"
      },
      "source": [
        "# importing the necessary modules\n",
        "from pyspark.ml.feature import StringIndexer, OneHotEncoderEstimator, VectorAssembler, StringIndexerModel\n",
        "stages = []\n",
        "indexers = []\n",
        "\n",
        "# creating the string indexers\n",
        "for col in ['EDUCATION','SEX','MARRIAGE']:\n",
        "    indexers.append(StringIndexer(inputCol =col,outputCol=col+'_',handleInvalid='keep'))\n",
        "    \n",
        "input_columns = [indexer.getOutputCol() for indexer in indexers]\n",
        "\n",
        "one_hot_encoder = OneHotEncoderEstimator(inputCols=input_columns,outputCols=[col + 'ohe' for col in input_columns],dropLast=True)\n",
        "\n",
        "\n",
        "# features to be included in the model \n",
        "features = ['LIMIT_BAL','AGE','PAY_0','PAY_2','PAY_3',\n",
        "            'PAY_4','PAY_5','PAY_6', 'BILL_AMT1','BILL_AMT2',\n",
        "            'BILL_AMT3','BILL_AMT4','BILL_AMT5','BILL_AMT6']\n",
        "\n",
        "# adding the categorical features\n",
        "features.extend(one_hot_encoder.getOutputCols())\n",
        "\n",
        "# putting all of the features into a single vector\n",
        "vector_assember = VectorAssembler(inputCols= features , outputCol='features')\n",
        "\n",
        "stages.extend(indexers)\n",
        "stages.extend([one_hot_encoder,vector_assember])\n",
        "print(stages)"
      ],
      "execution_count": 22,
      "outputs": [
        {
          "output_type": "stream",
          "text": [
            "[StringIndexer_cc5ec7e5e454, StringIndexer_adcd6b1bdf24, StringIndexer_447497d5f13b, OneHotEncoderEstimator_ef1cbcd84966, VectorAssembler_09b0d37dbd45]\n"
          ],
          "name": "stdout"
        }
      ]
    },
    {
      "cell_type": "markdown",
      "metadata": {
        "id": "k0fOUVDWYf_6",
        "colab_type": "text"
      },
      "source": [
        "Alright! Now let's see if that worked. Let's investigate how it transforms your dataset. Put all of the stages in a Pipeline and fit it to your data. Look at the features column. Did you obtain the number of features you expected?"
      ]
    },
    {
      "cell_type": "code",
      "metadata": {
        "id": "xSWD1P2cYf_7",
        "colab_type": "code",
        "colab": {
          "base_uri": "https://localhost:8080/",
          "height": 54
        },
        "outputId": "4a04d92d-77df-4f68-b6a4-bc1a0af252aa"
      },
      "source": [
        "from pyspark.ml.pipeline import Pipeline\n",
        "pipe = Pipeline(stages=stages)\n",
        "data_transformer = pipe.fit(spark_df_done)\n",
        "transformed_data = data_transformer.transform(spark_df_done)\n",
        "p = transformed_data.select('features')\n",
        "p.head()\n",
        "\n",
        "# 17 numerical features and 6 categorical ones (the argument dropLast = True makes us have Sex, 3 Edu variables and 2 marriage)"
      ],
      "execution_count": 23,
      "outputs": [
        {
          "output_type": "execute_result",
          "data": {
            "text/plain": [
              "Row(features=SparseVector(23, {0: 120000.0, 1: 26.0, 2: -1.0, 3: 2.0, 7: 2.0, 8: 2682.0, 9: 1725.0, 10: 2682.0, 11: 3272.0, 12: 3455.0, 13: 3261.0, 14: 1.0, 18: 1.0, 20: 1.0}))"
            ]
          },
          "metadata": {
            "tags": []
          },
          "execution_count": 23
        }
      ]
    },
    {
      "cell_type": "markdown",
      "metadata": {
        "id": "j4inYB4bYf_9",
        "colab_type": "text"
      },
      "source": [
        "## Fitting Machine Learning Models\n",
        "That looks good! Now let's go ahead and fit data to different machine learning models. To evaluate these models, you should use the `BinaryClassificationEvaluator`. Below is an import of all the classes and libraries you'll need in the remainder of this lab."
      ]
    },
    {
      "cell_type": "code",
      "metadata": {
        "id": "oAAunMqDYf_9",
        "colab_type": "code",
        "colab": {}
      },
      "source": [
        "from pyspark.ml.classification import GBTClassifier, DecisionTreeClassifier, LogisticRegression, RandomForestClassifier\n",
        "from pyspark.ml.tuning import ParamGridBuilder, CrossValidator, TrainValidationSplit\n",
        "from pyspark.ml.evaluation import BinaryClassificationEvaluator\n",
        "import numpy as np"
      ],
      "execution_count": 24,
      "outputs": []
    },
    {
      "cell_type": "markdown",
      "metadata": {
        "id": "8xz7OZezYf__",
        "colab_type": "text"
      },
      "source": [
        "### Logistic Regression\n",
        "\n",
        "First, we'll try with a simple Logistic Regression Model:\n",
        "\n",
        "* instantiate a logistic regression model\n",
        "* add it to the stages list\n",
        "* instantiate a new Pipeline estimator (not fit) with all of the stages\n",
        "* instantiate an `BinaryClassificationEvaluator`\n",
        "* create parameters to gridsearch through using `ParamGridBuilder`\n",
        "* Instantiate and fit a `CrossValidator` "
      ]
    },
    {
      "cell_type": "code",
      "metadata": {
        "id": "hictz4X9YgAA",
        "colab_type": "code",
        "colab": {}
      },
      "source": [
        "lr = LogisticRegression(featuresCol='features',labelCol='default')\n",
        "p = Pipeline(stages=stages + [lr])\n",
        "evaluation = BinaryClassificationEvaluator(labelCol = 'default',metricName='areaUnderROC')\n",
        "\n",
        "lr_params = ParamGridBuilder().addGrid(lr.regParam,[0.0,0.2,0.5,1.0])\\\n",
        ".addGrid(lr.standardization,[True,False])\\\n",
        ".build()\n",
        "\n",
        "cv = CrossValidator(estimator=p, estimatorParamMaps=lr_params,evaluator=evaluation,parallelism=4)\n",
        "model = cv.fit(spark_df_done)"
      ],
      "execution_count": 25,
      "outputs": []
    },
    {
      "cell_type": "markdown",
      "metadata": {
        "id": "STiwBKG_YgAC",
        "colab_type": "text"
      },
      "source": [
        "Determine how well your model performed by looking at the evaluator metrics. If you tried multiple parameters, which performed best?"
      ]
    },
    {
      "cell_type": "code",
      "metadata": {
        "id": "hNiyztl3YgAC",
        "colab_type": "code",
        "colab": {
          "base_uri": "https://localhost:8080/",
          "height": 71
        },
        "outputId": "ae56e729-915d-4b54-fa7f-ea23e1a24b2f"
      },
      "source": [
        "# print out the AUC of your best model as well as the parameters of your best model\n",
        "index_best_model = np.argmax(model.avgMetrics)\n",
        "print(model.avgMetrics[index_best_model],'AUC')\n",
        "print('best parameters : ',lr_params[index_best_model])"
      ],
      "execution_count": 27,
      "outputs": [
        {
          "output_type": "stream",
          "text": [
            "0.71735861535596 AUC\n",
            "best parameters :  {Param(parent='LogisticRegression_4c1de6cdd389', name='regParam', doc='regularization parameter (>= 0).'): 0.0, Param(parent='LogisticRegression_4c1de6cdd389', name='standardization', doc='whether to standardize the training features before fitting the model.'): True}\n"
          ],
          "name": "stdout"
        }
      ]
    },
    {
      "cell_type": "markdown",
      "metadata": {
        "id": "xgpcoQvuYgAF",
        "colab_type": "text"
      },
      "source": [
        "#### Now try this again with other classifiers. Try and create a function that will allow you to easily test different models with different parameters. This function is optional, but it should allow for your code to be far more D.R.Y. The function should return the fitted cross-validated model as well as print out the performance metrics of the best performing model and the best parameters."
      ]
    },
    {
      "cell_type": "code",
      "metadata": {
        "id": "_csexyooYgAF",
        "colab_type": "code",
        "colab": {}
      },
      "source": [
        "# create function to cross validate models with different parameters\n",
        "def create_model(ml_model,\n",
        "                 preprocessing_stages,\n",
        "                 param_grid,\n",
        "                 parallel = 4,\n",
        "                 evaluation_metric = 'areaUnderROC',\n",
        "                 parafeaturesCol = 'features',\n",
        "                 label='default'):\n",
        "    \n",
        "    stage_with_ml = preprocessing_stages + [ml_model]\n",
        "    pipe = Pipeline(stages=stage_with_ml)\n",
        "    \n",
        "    evaluation = BinaryClassificationEvaluator(labelCol = label,metricName=evaluation_metric)\n",
        "    model = CrossValidator(estimator = pipe,\n",
        "                        estimatorParamMaps=param_grid,\n",
        "                        evaluator = evaluation,\n",
        "                       parallelism = parallel).fit(spark_df_done)\n",
        "\n",
        "    index_best_model = np.argmax(model.avgMetrics)\n",
        "    print('best performing model: ', model.avgMetrics[index_best_model],'AUC')\n",
        "    print('best parameters: ',param_grid[index_best_model])\n",
        "    return model"
      ],
      "execution_count": 28,
      "outputs": []
    },
    {
      "cell_type": "markdown",
      "metadata": {
        "id": "9mpksosWYgAH",
        "colab_type": "text"
      },
      "source": [
        "Train a Random Forest classifier and determine the best performing model with the best parameters. This might take a while! Be smart about how you use parallelization here."
      ]
    },
    {
      "cell_type": "code",
      "metadata": {
        "id": "3KxIvH68YgAH",
        "colab_type": "code",
        "colab": {
          "base_uri": "https://localhost:8080/",
          "height": 71
        },
        "outputId": "6d008137-35cf-4c17-e0f8-7f50d50b50e1"
      },
      "source": [
        "# code to train Random Forest Classifier\n",
        "# ⏰ This cell may take a long time to run\n",
        "rf = RandomForestClassifier(featuresCol='features',labelCol='default')\n",
        "rf_params = ParamGridBuilder()\\\n",
        ".addGrid(rf.maxDepth, [5,10])\\\n",
        " .addGrid(rf.numTrees, [20,50,100,200])\\\n",
        " .build()\n",
        "\n",
        "rf_model = create_model(rf,stages,rf_params)"
      ],
      "execution_count": 29,
      "outputs": [
        {
          "output_type": "stream",
          "text": [
            "best performing model:  0.7804158421399966 AUC\n",
            "best parameters:  {Param(parent='RandomForestClassifier_40b28d141e68', name='maxDepth', doc='Maximum depth of the tree. (>= 0) E.g., depth 0 means 1 leaf node; depth 1 means 1 internal node + 2 leaf nodes.'): 10, Param(parent='RandomForestClassifier_40b28d141e68', name='numTrees', doc='Number of trees to train (>= 1).'): 200}\n"
          ],
          "name": "stdout"
        }
      ]
    },
    {
      "cell_type": "markdown",
      "metadata": {
        "id": "pT7Kdp7GYgAJ",
        "colab_type": "text"
      },
      "source": [
        "Now train a Gradient Boosting Classifier. **This might take a very long time depending on the number of parameters you are training**"
      ]
    },
    {
      "cell_type": "code",
      "metadata": {
        "id": "mSwSbXoVYgAJ",
        "colab_type": "code",
        "colab": {
          "base_uri": "https://localhost:8080/",
          "height": 71
        },
        "outputId": "48154d08-33e5-4ff4-f917-a98997fd9b27"
      },
      "source": [
        "# code to train Gradient Boosting Classifier\n",
        "# ⏰ This cell may take a long time to run\n",
        "\n",
        "gb = GBTClassifier(featuresCol='features',labelCol='default')\n",
        "param_gb = ParamGridBuilder().addGrid(gb.maxDepth,[1,5]).addGrid(gb.maxIter,[20,50,100]).build()\n",
        "\n",
        "gb_model = create_model(gb,stages, param_grid=param_gb, parallel=4)\n"
      ],
      "execution_count": 30,
      "outputs": [
        {
          "output_type": "stream",
          "text": [
            "best performing model:  0.7785245834762385 AUC\n",
            "best parameters:  {Param(parent='GBTClassifier_b0e42102a6cc', name='maxDepth', doc='Maximum depth of the tree. (>= 0) E.g., depth 0 means 1 leaf node; depth 1 means 1 internal node + 2 leaf nodes.'): 5, Param(parent='GBTClassifier_b0e42102a6cc', name='maxIter', doc='max number of iterations (>= 0).'): 50}\n"
          ],
          "name": "stdout"
        }
      ]
    },
    {
      "cell_type": "markdown",
      "metadata": {
        "id": "vc5VgTw1YgAL",
        "colab_type": "text"
      },
      "source": [
        "It looks like the optimal performing model is the Random Forest Classifier Model because it has the highest AUC!\n",
        "\n",
        "## Level Up (Optional)\n",
        "\n",
        "* Create ROC curves for each of these models\n",
        "* Try the multi-layer perceptron classifier algorithm. You will soon learn about what this means in the neural network section!"
      ]
    },
    {
      "cell_type": "markdown",
      "metadata": {
        "id": "Nfoe-pv9YgAL",
        "colab_type": "text"
      },
      "source": [
        "## Summary\n",
        "\n",
        "If you've made it thus far, congratulations! Spark is an in-demand skill, but it is not particularly easy to master. In this lesson, you fit multiple different machine learning pipelines for a classification problem. If you want to take your Spark skills to the next level, connect to a distributed cluster using a service like AWS or Databricks and perform these Spark operations on the cloud."
      ]
    }
  ]
}